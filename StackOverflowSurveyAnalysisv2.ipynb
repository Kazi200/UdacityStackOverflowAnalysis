{
 "cells": [
  {
   "cell_type": "code",
   "execution_count": null,
   "metadata": {},
   "outputs": [],
   "source": []
  },
  {
   "cell_type": "code",
   "execution_count": null,
   "metadata": {},
   "outputs": [],
   "source": [
    "import pandas as pd\n",
    "import numpy as np \n",
    "\n",
    "from IPython.core.display import display, HTML\n",
    "display(HTML(\"<style>.container { width:75% !important; }</style>\"))"
   ]
  },
  {
   "cell_type": "code",
   "execution_count": null,
   "metadata": {},
   "outputs": [],
   "source": [
    "\n",
    "from matplotlib import rcParams\n",
    "# setting figure size default\n",
    "rcParams['figure.figsize'] = 30,20"
   ]
  },
  {
   "cell_type": "code",
   "execution_count": null,
   "metadata": {},
   "outputs": [],
   "source": [
    "pd.set_option('display.max_columns', 500)\n",
    "pd.set_option('display.max_colwidth', -1)"
   ]
  },
  {
   "cell_type": "code",
   "execution_count": null,
   "metadata": {},
   "outputs": [],
   "source": [
    "try:\n",
    "    df = pd.read_csv(r'C:\\Users\\Kazi\\Udacity_2\\Udacity\\Data Scientist Nano\\Term2\\Project1\\developer_survey_2019\\survey_results_public.csv')\n",
    "except:\n",
    "    df = pd.read_csv(r'C:\\Users\\mkazi\\Desktop\\Kazi\\Udacity\\GoogleDrive\\Udacity\\Data Scientist Nano\\Term2\\Project1\\developer_survey_2019\\survey_results_public.csv')\n",
    "\n"
   ]
  },
  {
   "cell_type": "markdown",
   "metadata": {},
   "source": [
    "lets hone down on data analysts and data scientists\n",
    "1. which country pays the most to these professsionals\n",
    "2. what languages do they prefer?\n",
    "3. what's tehir job satiusfaction like?\n",
    "4. what is teh ier experience like?\n",
    "5. whiat country has the most data scientists, as a percent of total devs\n",
    "6. what is ther education like\n",
    "\n",
    "\n",
    "To do this, we needed to \n",
    "1. remove non-professional prgrammers\n",
    "2. impute saalries\n",
    "3. take median salary\n",
    "4. remove low respondent countries\n",
    "5. isolate datascientists and analysts\n",
    "6. reclassify other professions\n"
   ]
  },
  {
   "cell_type": "code",
   "execution_count": null,
   "metadata": {},
   "outputs": [],
   "source": [
    "# Step 1 - all professionals\n",
    "\n",
    "df1 = df[df.MainBranch.isin([\"I am not primarily a developer, but I write code sometimes as part of my work\",'I am a developer by profession'])]\n"
   ]
  },
  {
   "cell_type": "code",
   "execution_count": null,
   "metadata": {},
   "outputs": [],
   "source": [
    "# step 2 - remove countries with les than 100 respondents\n",
    "\n",
    "df2 = df1.groupby('Country').Respondent.nunique().reset_index()\n",
    "Countries = list(set(df2[df2.Respondent >= 100 ].Country))\n",
    "df3 = df1[df1.Country.isin(Countries)]"
   ]
  },
  {
   "cell_type": "code",
   "execution_count": null,
   "metadata": {},
   "outputs": [],
   "source": [
    "# step 3 - separate data scientists and analysts from other professions\n",
    "datapeople = ['Data scientist','Data or business analyst']\n",
    "df3['Profession'] = np.where((df3['DevType'].str.contains('|'.join(datapeople))), 'DataPerson','Other')"
   ]
  },
  {
   "cell_type": "code",
   "execution_count": null,
   "metadata": {},
   "outputs": [],
   "source": [
    "df3"
   ]
  },
  {
   "cell_type": "markdown",
   "metadata": {},
   "source": [
    "# Quiestions 1 \n",
    " - which country payts the best data science salaries, and how does that copmpare to other professions\n",
    "\n",
    "\n",
    "<br>\n",
    "there appears to be a lot of missing values in the Salary depratment. We should fill these in before proceeding\n",
    "<br>\n",
    "\n",
    "well ot find out we must first impute salaries that are missing, and remove outliers. We can accmomplish both of these by imputing the median \n",
    " \n",
    " - Our median salary is imoputed by looking at 3 factors\"\n",
    "  1. The country theyre in\n",
    "  2. The experience they have in coding\n",
    "  3. our classifier of Data epoeple and everyoine else. "
   ]
  },
  {
   "cell_type": "code",
   "execution_count": null,
   "metadata": {},
   "outputs": [],
   "source": [
    "# step 4 - Fill in missing salaries  \n",
    "\n",
    "def medianSalary(country,yearscoding,profession):\n",
    "    sal = df3[(df3.Country == country) & (df3.YearsCodePro == yearscoding) & (df3.Profession == profession)].ConvertedComp.median()\n",
    "    return sal"
   ]
  },
  {
   "cell_type": "code",
   "execution_count": null,
   "metadata": {},
   "outputs": [],
   "source": [
    "  \n",
    "df4 = df3.copy()\n",
    "df4['ImputedSalary'] = df4.ConvertedComp.combine_first(df4[(df4.ConvertedComp.isna())].apply(lambda x: medianSalary(x['Country'] , x['YearsCodePro'], x['Profession']), axis = 1 ))"
   ]
  },
  {
   "cell_type": "code",
   "execution_count": null,
   "metadata": {},
   "outputs": [],
   "source": [
    "df4"
   ]
  },
  {
   "cell_type": "code",
   "execution_count": null,
   "metadata": {
    "scrolled": true
   },
   "outputs": [],
   "source": [
    "# step 5 - grpahicng\n",
    "\n",
    "df4.groupby('Country').ImputedSalary.median().reset_index().sort_values('ImputedSalary', ascending = False)\n"
   ]
  },
  {
   "cell_type": "code",
   "execution_count": null,
   "metadata": {
    "scrolled": true
   },
   "outputs": [],
   "source": [
    "pvt = df4.pivot_table(values=['ImputedSalary'], \n",
    "                      index='Country',\n",
    "                      columns='Profession',\n",
    "                      aggfunc='median')\n",
    "\n",
    "df = pvt.reindex(pvt['ImputedSalary'].sort_values(by='DataPerson', ascending=False).index)\n",
    "\n",
    "# pvt = pvt.div(pvt.sum(1), axis=0)\n",
    "# pvt.plot(kind='bar', stacked=True)\n",
    "df.columns = df.columns.droplevel(0)\n",
    "df"
   ]
  },
  {
   "cell_type": "code",
   "execution_count": null,
   "metadata": {},
   "outputs": [],
   "source": [
    "df.plot(kind='bar', figsize = (30,15))"
   ]
  },
  {
   "cell_type": "markdown",
   "metadata": {},
   "source": [
    "# Answer 1:\n",
    "From the above we can see that Data Analysts and Scientists actually get more than other professions, on average. \n",
    "\n",
    "<br>\n",
    "There are definitely some countries where this isn't true. but it does hold true for the top 5 countries. \n"
   ]
  },
  {
   "cell_type": "code",
   "execution_count": null,
   "metadata": {},
   "outputs": [],
   "source": []
  },
  {
   "cell_type": "code",
   "execution_count": null,
   "metadata": {},
   "outputs": [],
   "source": []
  },
  {
   "cell_type": "code",
   "execution_count": null,
   "metadata": {},
   "outputs": [],
   "source": [
    "s = df4['LanguageWorkedWith'].str.split(';').apply(pd.Series, 1).stack()\n",
    "\n",
    "s.index = s.index.droplevel(-1) # to line up with df's index\n",
    "\n",
    "s.name = 'Languages' # needs a name to join\n",
    "\n",
    "del df4['LanguageWorkedWith']"
   ]
  },
  {
   "cell_type": "markdown",
   "metadata": {},
   "source": [
    "# Question 2\n",
    "\n",
    "- Is there a language preference amongst data scientists and data analysts?\n",
    "- Waht are they working in?\n",
    "- and also, what do they want to work in next?"
   ]
  },
  {
   "cell_type": "code",
   "execution_count": null,
   "metadata": {},
   "outputs": [],
   "source": [
    "\n",
    "\n",
    "df8 = df4.join(s)\n",
    "\n",
    "pvt = df8.pivot_table(values=['Respondent'], \n",
    "                      index='Languages',\n",
    "                      columns='Profession',\n",
    "                      aggfunc='sum')\n",
    "\n",
    "pvt = pvt.div(pvt.sum(1), axis=0)\n",
    "pvt.plot(kind='bar', stacked=True)"
   ]
  },
  {
   "cell_type": "markdown",
   "metadata": {},
   "source": [
    "# Answer 2\n",
    "Well we have a winner folks!\n",
    "- R is definetyly the preferred tool analysts uyse over other tools. \n",
    "- Runners up were VBA, Scala, and Python"
   ]
  },
  {
   "cell_type": "code",
   "execution_count": null,
   "metadata": {},
   "outputs": [],
   "source": []
  },
  {
   "cell_type": "markdown",
   "metadata": {},
   "source": [
    "# Question 3\n",
    " - Lastly, are the data people have more educated than the other dev counterparts?"
   ]
  },
  {
   "cell_type": "code",
   "execution_count": null,
   "metadata": {},
   "outputs": [],
   "source": []
  },
  {
   "cell_type": "code",
   "execution_count": null,
   "metadata": {},
   "outputs": [],
   "source": []
  },
  {
   "cell_type": "code",
   "execution_count": null,
   "metadata": {},
   "outputs": [],
   "source": [
    "pvt"
   ]
  },
  {
   "cell_type": "code",
   "execution_count": null,
   "metadata": {},
   "outputs": [],
   "source": [
    "pvt2 = pvt.T\n",
    "pvt2 = pvt2.reset_index()"
   ]
  },
  {
   "cell_type": "code",
   "execution_count": null,
   "metadata": {},
   "outputs": [],
   "source": [
    "pvt3 = pvt2.copy()"
   ]
  },
  {
   "cell_type": "code",
   "execution_count": null,
   "metadata": {},
   "outputs": [],
   "source": []
  },
  {
   "cell_type": "code",
   "execution_count": null,
   "metadata": {},
   "outputs": [],
   "source": [
    "pvt3['ProfCat'] = np.where(pvt3.EdLevel.isin(['I never completed any formal education','Primary/elementary school','Secondary school (e.g. American high school, German Realschule or Gymnasium, etc.)']), 'School',\n",
    "                              np.where(pvt3.EdLevel.isin(['Bachelor’s degree (BA, BS, B.Eng., etc.)']),'Bachelor''s Degree',\n",
    "                                        np.where(pvt3.EdLevel.isin(['Master’s degree (MA, MS, M.Eng., MBA, etc.)']),'Master''s Degree',\n",
    "                                                 np.where(pvt3.EdLevel.isin(['Professional degree (JD, MD, etc.)','Other doctoral degree (Ph.D, Ed.D., etc.)']),'Professional or Doctoral Degree','Other Education'))))\n",
    "                                      \n",
    "                                      "
   ]
  },
  {
   "cell_type": "code",
   "execution_count": null,
   "metadata": {},
   "outputs": [],
   "source": [
    "pvt4 = pvt3.groupby('ProfCat').agg({'DataPerson':'sum', 'Other': 'sum'}).reset_index()\n"
   ]
  },
  {
   "cell_type": "code",
   "execution_count": null,
   "metadata": {},
   "outputs": [],
   "source": [
    "categories = list(pvt4.ProfCat)\n",
    "\n",
    "fig = go.Figure()\n",
    "\n",
    "fig.add_trace(go.Scatterpolar(\n",
    "      r=list(pvt4.DataPerson),\n",
    "      theta=categories,\n",
    "      fill='toself',\n",
    "      name='DataPerson'\n",
    "))\n",
    "fig.add_trace(go.Scatterpolar(\n",
    "      r=list(pvt4.Other),\n",
    "      theta=categories,\n",
    "      fill='toself',\n",
    "      name='Other'\n",
    "))\n",
    "\n",
    "fig.update_layout(\n",
    "  polar=dict(\n",
    "    radialaxis=dict(\n",
    "      visible=False,\n",
    "      range=[0, 0.5]\n",
    "    )),\n",
    "  showlegend=True\n",
    ")\n",
    "\n",
    "fig.show()"
   ]
  },
  {
   "cell_type": "markdown",
   "metadata": {},
   "source": [
    " # Answer 3\n",
    " \n",
    " - It would seem that Data People have more Master's and Doctorate degrees than the programmer counterparts. "
   ]
  },
  {
   "cell_type": "code",
   "execution_count": null,
   "metadata": {},
   "outputs": [],
   "source": []
  },
  {
   "cell_type": "markdown",
   "metadata": {},
   "source": [
    "#  Conclusion\n",
    "\n",
    " - in conclusion, it rocks to be a datascientist .\n",
    " - but for real, it's a great career, "
   ]
  },
  {
   "cell_type": "code",
   "execution_count": null,
   "metadata": {},
   "outputs": [],
   "source": []
  },
  {
   "cell_type": "code",
   "execution_count": null,
   "metadata": {},
   "outputs": [],
   "source": []
  },
  {
   "cell_type": "markdown",
   "metadata": {},
   "source": [
    "# Question 4\n",
    "- Experience levels"
   ]
  },
  {
   "cell_type": "code",
   "execution_count": null,
   "metadata": {},
   "outputs": [],
   "source": []
  },
  {
   "cell_type": "code",
   "execution_count": null,
   "metadata": {},
   "outputs": [],
   "source": []
  },
  {
   "cell_type": "code",
   "execution_count": null,
   "metadata": {},
   "outputs": [],
   "source": []
  },
  {
   "cell_type": "code",
   "execution_count": null,
   "metadata": {},
   "outputs": [],
   "source": []
  },
  {
   "cell_type": "code",
   "execution_count": null,
   "metadata": {},
   "outputs": [],
   "source": []
  },
  {
   "cell_type": "code",
   "execution_count": null,
   "metadata": {},
   "outputs": [],
   "source": []
  },
  {
   "cell_type": "code",
   "execution_count": null,
   "metadata": {},
   "outputs": [],
   "source": []
  },
  {
   "cell_type": "code",
   "execution_count": null,
   "metadata": {},
   "outputs": [],
   "source": []
  },
  {
   "cell_type": "code",
   "execution_count": null,
   "metadata": {},
   "outputs": [],
   "source": []
  },
  {
   "cell_type": "code",
   "execution_count": null,
   "metadata": {},
   "outputs": [],
   "source": []
  },
  {
   "cell_type": "code",
   "execution_count": null,
   "metadata": {},
   "outputs": [],
   "source": []
  }
 ],
 "metadata": {
  "kernelspec": {
   "display_name": "Python 3",
   "language": "python",
   "name": "python3"
  },
  "language_info": {
   "codemirror_mode": {
    "name": "ipython",
    "version": 3
   },
   "file_extension": ".py",
   "mimetype": "text/x-python",
   "name": "python",
   "nbconvert_exporter": "python",
   "pygments_lexer": "ipython3",
   "version": "3.6.5"
  }
 },
 "nbformat": 4,
 "nbformat_minor": 2
}
